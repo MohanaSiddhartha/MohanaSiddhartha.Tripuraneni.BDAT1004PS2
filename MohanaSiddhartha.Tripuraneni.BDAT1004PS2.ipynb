{
 "cells": [
  {
   "cell_type": "markdown",
   "metadata": {},
   "source": [
    "## Problem Set 2"
   ]
  },
  {
   "cell_type": "markdown",
   "metadata": {},
   "source": [
    "### Question 1"
   ]
  },
  {
   "cell_type": "code",
   "execution_count": 1,
   "metadata": {},
   "outputs": [],
   "source": [
    "a = 0\n",
    "\n",
    "def b():\n",
    "    global a\n",
    "    a = c(a)\n",
    "    \n",
    "def c(a):\n",
    "    return a + 2"
   ]
  },
  {
   "cell_type": "code",
   "execution_count": 2,
   "metadata": {},
   "outputs": [],
   "source": [
    "b()"
   ]
  },
  {
   "cell_type": "markdown",
   "metadata": {},
   "source": [
    "Initially **a** = 0.<br>\n",
    "function **c** returns 2.(Because 0+2 returns 2) <br>\n",
    "function **b** assigns result of function **c** to **a**.<br>\n",
    "Hence, the value of **a** is **2** after first execution."
   ]
  },
  {
   "cell_type": "code",
   "execution_count": 3,
   "metadata": {},
   "outputs": [],
   "source": [
    "b()"
   ]
  },
  {
   "cell_type": "markdown",
   "metadata": {},
   "source": [
    "From the execution 1, the value of **a** is 2. <br>\n",
    "function **c** returns 4.(Because 2+2 returns 4) <br>\n",
    "function **b** assigns result of function **c** to **a**. <br>\n",
    "Hence, the value of **a** is **4** after second execution."
   ]
  },
  {
   "cell_type": "code",
   "execution_count": 4,
   "metadata": {},
   "outputs": [],
   "source": [
    "b()"
   ]
  },
  {
   "cell_type": "markdown",
   "metadata": {},
   "source": [
    "From the execution 2, the value of **a** is 4. <br>\n",
    "function **c** returns 6.(Because 4+2 returns 6) <br>\n",
    "function **b** assigns result of function **c** to **a**. <br>\n",
    "Hence, the value of **a** is **6** after second execution."
   ]
  },
  {
   "cell_type": "code",
   "execution_count": 5,
   "metadata": {},
   "outputs": [
    {
     "data": {
      "text/plain": [
       "6"
      ]
     },
     "execution_count": 5,
     "metadata": {},
     "output_type": "execute_result"
    }
   ],
   "source": [
    "a"
   ]
  },
  {
   "cell_type": "markdown",
   "metadata": {},
   "source": [
    "**From the all previous executions, a value is now at 6 from all the previous incrementations.** <br>\n",
    "**In the execution 4, we are just printing the value of a.** <br>\n",
    "**Hence the value of a is 6.**"
   ]
  },
  {
   "cell_type": "markdown",
   "metadata": {},
   "source": [
    " "
   ]
  },
  {
   "cell_type": "markdown",
   "metadata": {},
   "source": [
    "### Question 2"
   ]
  },
  {
   "cell_type": "code",
   "execution_count": 7,
   "metadata": {},
   "outputs": [],
   "source": [
    "import os     #we are importing os module in the program\n",
    "\n",
    "def fileLength(file): #User-Defined Function Creation.\n",
    "    \"Function filelength takes input as file name and  returns the length of file.\"\n",
    "    try:                                \n",
    "        return os.stat(file).st_size        \n",
    "    except FileNotFoundError:                           #user defined exceptions\n",
    "        print (\"File \"+file+\" not found\")               # Prints File <filename> if file is not found in pwd.\n",
    "        return \n",
    "    except IOError:                                          \n",
    "        print (\"File \"+file+\" Can not read\")            # Prints file <filename> can not read if it is not readable.\n",
    "        return \n",
    "    except:\n",
    "        print (\"Unexpected Error!\")                     #prints Unexpected Error! for any other error other than above two.\n",
    "        return \n"
   ]
  },
  {
   "cell_type": "code",
   "execution_count": 8,
   "metadata": {},
   "outputs": [
    {
     "data": {
      "text/plain": [
       "358"
      ]
     },
     "execution_count": 8,
     "metadata": {},
     "output_type": "execute_result"
    }
   ],
   "source": [
    "fileLength('midterm.py')"
   ]
  },
  {
   "cell_type": "code",
   "execution_count": 9,
   "metadata": {},
   "outputs": [
    {
     "name": "stdout",
     "output_type": "stream",
     "text": [
      "File idterm.py not found\n"
     ]
    }
   ],
   "source": [
    "fileLength('idterm.py')"
   ]
  },
  {
   "cell_type": "markdown",
   "metadata": {},
   "source": [
    " \n"
   ]
  },
  {
   "cell_type": "markdown",
   "metadata": {},
   "source": [
    "### Question 3"
   ]
  },
  {
   "cell_type": "code",
   "execution_count": 10,
   "metadata": {},
   "outputs": [],
   "source": [
    "class Marsupial:                    #marsupial class               \n",
    "    itemList=[]\n",
    "    \n",
    "    def put_in_pouch(self,item):\n",
    "        self.itemList.append(item)\n",
    "    \n",
    "    def pouch_contents(self):\n",
    "        return self.itemList"
   ]
  },
  {
   "cell_type": "code",
   "execution_count": 11,
   "metadata": {},
   "outputs": [],
   "source": [
    "class Kangaroo(Marsupial):      #kangaroo class\n",
    "    x=0\n",
    "    y=0\n",
    "    def __init__(self, x,y):   \n",
    "        self.x = x   \n",
    "        self.y = y\n",
    "    \n",
    "    def jump(self,dx,dy):\n",
    "        self.x = self.x+dx\n",
    "        self.y = self.y+dy\n",
    "        \n",
    "    def __str__(self):\n",
    "        return 'I am a Kangaroo located at coordinates ('+str(self.x)+','+str(self.y)+')'"
   ]
  },
  {
   "cell_type": "code",
   "execution_count": 12,
   "metadata": {},
   "outputs": [],
   "source": [
    "k = Kangaroo(0,0)"
   ]
  },
  {
   "cell_type": "code",
   "execution_count": 13,
   "metadata": {},
   "outputs": [
    {
     "name": "stdout",
     "output_type": "stream",
     "text": [
      "I am a Kangaroo located at coordinates (0,0)\n"
     ]
    }
   ],
   "source": [
    "print (k)"
   ]
  },
  {
   "cell_type": "code",
   "execution_count": 14,
   "metadata": {},
   "outputs": [],
   "source": [
    "k.put_in_pouch('doll')"
   ]
  },
  {
   "cell_type": "code",
   "execution_count": 15,
   "metadata": {},
   "outputs": [],
   "source": [
    "k.put_in_pouch('firetruck')"
   ]
  },
  {
   "cell_type": "code",
   "execution_count": 16,
   "metadata": {},
   "outputs": [],
   "source": [
    "k.put_in_pouch('kitten')"
   ]
  },
  {
   "cell_type": "code",
   "execution_count": 17,
   "metadata": {},
   "outputs": [
    {
     "data": {
      "text/plain": [
       "['doll', 'firetruck', 'kitten']"
      ]
     },
     "execution_count": 17,
     "metadata": {},
     "output_type": "execute_result"
    }
   ],
   "source": [
    "k.pouch_contents()"
   ]
  },
  {
   "cell_type": "code",
   "execution_count": 18,
   "metadata": {},
   "outputs": [],
   "source": [
    "k.jump(1,0)"
   ]
  },
  {
   "cell_type": "code",
   "execution_count": 19,
   "metadata": {},
   "outputs": [],
   "source": [
    "k.jump(1,0)"
   ]
  },
  {
   "cell_type": "code",
   "execution_count": 20,
   "metadata": {},
   "outputs": [],
   "source": [
    "k.jump(1,0)"
   ]
  },
  {
   "cell_type": "code",
   "execution_count": 21,
   "metadata": {},
   "outputs": [
    {
     "name": "stdout",
     "output_type": "stream",
     "text": [
      "I am a Kangaroo located at coordinates (3,0)\n"
     ]
    }
   ],
   "source": [
    "print(k)"
   ]
  },
  {
   "cell_type": "markdown",
   "metadata": {},
   "source": [
    " "
   ]
  },
  {
   "cell_type": "markdown",
   "metadata": {},
   "source": [
    "### Question 4"
   ]
  },
  {
   "cell_type": "code",
   "execution_count": null,
   "metadata": {},
   "outputs": [],
   "source": [
    "from tkinter import *\n",
    "from functools import partial\n",
    "import tkinter as tk\n",
    "import math \n",
    "\n",
    "#Calculator class\n",
    "class Calculator:\n",
    "    memory=0\n",
    "    def __init__(self, master):\n",
    "        self.master = master\n",
    "\n",
    "        # create screen widget\n",
    "        self.screen = Text(master, state='disabled', width=30, height=3, foreground=\"black\")\n",
    "        self.screen.grid(row=0,column=3,columnspan=4,padx=5,pady=5)\n",
    "        self.screen.configure(state='normal')\n",
    "        self.equation = ''\n",
    "\n",
    "        # create buttons using method createButton\n",
    "        b1 =  self.createButton(\"MC\",None)\n",
    "        b2 = self.createButton(\"M+\",None)\n",
    "        b3 = self.createButton(\"M-\",None)\n",
    "        b4 = self.createButton(\"MR\",None)\n",
    "        b5 =  self.createButton(\"C\",None)\n",
    "        b6 = self.createButton(u\"\\u221A\",None)\n",
    "        b7 = self.createButton(\"x\"+u\"\\u00B2\",None)\n",
    "        b8 = self.createButton(\"+\")\n",
    "        b9 =  self.createButton(7)\n",
    "        b10 = self.createButton(8)\n",
    "        b11 = self.createButton(9)\n",
    "        b12 = self.createButton(\"-\")\n",
    "        b13 = self.createButton(4)\n",
    "        b14 = self.createButton(5)\n",
    "        b15 = self.createButton(6)\n",
    "        b16 = self.createButton(\"*\")\n",
    "        b17 = self.createButton(1)\n",
    "        b18 = self.createButton(2)\n",
    "        b19 = self.createButton(3)\n",
    "        b20 = self.createButton('/')\n",
    "        b21 = self.createButton('0')\n",
    "        b22 = self.createButton('.')\n",
    "        b23 = self.createButton('+-',None)\n",
    "        b24 = self.createButton('=',None)\n",
    "        buttons = [b1,b2,b3,b4,b5,b6,b7,b8,b9,b10,b11,b12,b13,b14,b15,b16,b17,b18,b19,b20,b21,b22,b23,b24]\n",
    "\n",
    "        count = 0\n",
    "        for row in range(1,7):\n",
    "            for column in range(3,7):\n",
    "                buttons[count].grid(row=row,column=column)\n",
    "                count += 1\n",
    "\n",
    "    def createButton(self,val,write=True,width=7):\n",
    "        return Button(self.master, text=val,command = lambda: self.click(val,write), width=width)\n",
    "\n",
    "    def click(self,text,write):\n",
    "        if write == None:\n",
    "            if text == '=' and self.equation: \n",
    "                self.equation= re.sub(u\"\\u00F7\", '/', self.equation)\n",
    "                print(self.equation)\n",
    "                answer = str(eval(self.equation))\n",
    "                self.clear_screen()\n",
    "                self.insert_screen(answer,newline=True)\n",
    "            elif text == \"C\":\n",
    "                self.clear_screen()\n",
    "            elif text == \"MC\":\n",
    "                self.memory=0\n",
    "            elif text==\"M+\":\n",
    "                self.memory+=float(self.screen.get(\"1.0\",\"end\"))\n",
    "            elif text==\"M-\":\n",
    "                self.memory-=float(self.screen.get(\"1.0\",\"end\"))\n",
    "            elif text==\"MR\":\n",
    "                self.clear_screen()\n",
    "                self.insert_screen(self.memory,newline=True)\n",
    "            elif text==u\"\\u221A\":\n",
    "                result=math.sqrt(float(self.screen.get(\"1.0\",\"end\")))\n",
    "                self.clear_screen()\n",
    "                self.insert_screen(result,newline=True)\n",
    "            elif text==\"x\"+u\"\\u00B2\":\n",
    "                result=float(self.screen.get(\"1.0\",\"end\"))*float(self.screen.get(\"1.0\",\"end\"))\n",
    "                self.clear_screen()\n",
    "                self.insert_screen(result,newline=True)\n",
    "            elif text==\"+-\":\n",
    "                value=self.screen.get(\"1.0\",\"end\")\n",
    "                self.clear_screen()\n",
    "                self.insert_screen(float(value)*-1)\n",
    "        else:\n",
    "            self.insert_screen(text)\n",
    "        \n",
    "# clear csrean\n",
    "    def clear_screen(self):\n",
    "        self.equation = ''\n",
    "        self.screen.configure(state='normal')\n",
    "        self.screen.delete('1.0', END)\n",
    "\n",
    "# insert screan\n",
    "    def insert_screen(self, value,newline=False):\n",
    "        self.screen.configure(state='normal')\n",
    "        self.screen.insert(END,value)\n",
    "        self.equation += str(value)\n",
    "        self.screen.configure(state ='disabled')\n",
    "\n",
    "\n",
    "#Mortgage class\n",
    "class Mortgage:\n",
    "    \n",
    "    def __init__(self, master):\n",
    "        number1 = tk.StringVar()\n",
    "        number2 = tk.StringVar()\n",
    "        number3 = tk.StringVar()\n",
    "\n",
    "        labelNum1 = tk.Label(root, text=\"Loan Amount\").grid(row=1, column=0)\n",
    "        labelNum2 = tk.Label(root, text=\"Interest rate\").grid(row=2, column=0)\n",
    "        labelNum3 = tk.Label(root, text=\"Loan terms\").grid(row=3, column=0)\n",
    "        labelResult = tk.Label(root)\n",
    "        labelResult.grid(row=4, column=2)\n",
    "\n",
    "        entryNum1 = tk.Entry(root, textvariable=number1).grid(row=1, column=2)\n",
    "        entryNum2 = tk.Entry(root, textvariable=number2).grid(row=2, column=2)\n",
    "        entryNum3 = tk.Entry(root, textvariable=number3).grid(row=3, column=2)\n",
    "        call_result = partial(self.call_result, labelResult, number1, number2,number3)\n",
    "        buttonCal = tk.Button(root, text=\"Compute mortgage\", command=call_result).grid(row=4, column=0)\n",
    "\n",
    "        \n",
    "    \n",
    "    def call_result(self,label_result, n1, n2, n3):\n",
    "        num1 = (n1.get())\n",
    "        num2 = (n2.get())\n",
    "        num3 = (n3.get())\n",
    "        result = ((float(num1)*float(num2)/100)+float(num1))/float(num3)\n",
    "        print(result)\n",
    "        label_result.config(text=str(result))\n",
    "        return\n",
    "\n",
    "#Combination of those Calculator and Mortgage\n",
    "class App:\n",
    "    def __init__(self,d):\n",
    "        Mortgage(d)\n",
    "        Calculator(d)\n",
    "\n",
    "#Run the App class\n",
    "root = Tk()\n",
    "my_gui = App(root)\n",
    "root.mainloop()"
   ]
  },
  {
   "cell_type": "markdown",
   "metadata": {},
   "source": [
    "**Please refer to PDF file and code file attached with this repository.**"
   ]
  },
  {
   "cell_type": "markdown",
   "metadata": {},
   "source": [
    " "
   ]
  },
  {
   "cell_type": "markdown",
   "metadata": {},
   "source": [
    "### Question 5"
   ]
  },
  {
   "cell_type": "code",
   "execution_count": 22,
   "metadata": {},
   "outputs": [],
   "source": [
    "def collatz(x):\n",
    "    num=x\n",
    "    if(num==1):\n",
    "        print(1)\n",
    "        return \n",
    "    \n",
    "    print(int(num))\n",
    "    \n",
    "    if(num%2==0):\n",
    "        num=num/2\n",
    "    else:\n",
    "        num=3*num+1\n",
    "        \n",
    "    return(collatz(num))"
   ]
  },
  {
   "cell_type": "code",
   "execution_count": 23,
   "metadata": {},
   "outputs": [
    {
     "name": "stdout",
     "output_type": "stream",
     "text": [
      "1\n"
     ]
    }
   ],
   "source": [
    "collatz(1)"
   ]
  },
  {
   "cell_type": "code",
   "execution_count": 24,
   "metadata": {},
   "outputs": [
    {
     "name": "stdout",
     "output_type": "stream",
     "text": [
      "10\n",
      "5\n",
      "16\n",
      "8\n",
      "4\n",
      "2\n",
      "1\n"
     ]
    }
   ],
   "source": [
    "collatz(10)"
   ]
  },
  {
   "cell_type": "markdown",
   "metadata": {},
   "source": [
    " "
   ]
  },
  {
   "cell_type": "markdown",
   "metadata": {},
   "source": [
    "### Question 6"
   ]
  },
  {
   "cell_type": "code",
   "execution_count": 25,
   "metadata": {},
   "outputs": [],
   "source": [
    "def binary(n):\n",
    "    num=n\n",
    "    \n",
    "    if(num==0):\n",
    "        print(0 ,end =\" \"),\n",
    "        return\n",
    "    \n",
    "    if(num==1):\n",
    "        print(1, end =\" \"),\n",
    "        return\n",
    "    if(num%2==0):\n",
    "        num=num/2\n",
    "        binary(num)\n",
    "        print(0, end =\" \"),\n",
    "        return\n",
    "    else:\n",
    "        num=(num-1)/2\n",
    "        (binary(num))\n",
    "        print(1, end =\" \"),\n",
    "        return"
   ]
  },
  {
   "cell_type": "code",
   "execution_count": 26,
   "metadata": {},
   "outputs": [
    {
     "name": "stdout",
     "output_type": "stream",
     "text": [
      "0 "
     ]
    }
   ],
   "source": [
    "binary(0)"
   ]
  },
  {
   "cell_type": "code",
   "execution_count": 27,
   "metadata": {},
   "outputs": [
    {
     "name": "stdout",
     "output_type": "stream",
     "text": [
      "1 "
     ]
    }
   ],
   "source": [
    "binary(1)"
   ]
  },
  {
   "cell_type": "code",
   "execution_count": 28,
   "metadata": {},
   "outputs": [
    {
     "name": "stdout",
     "output_type": "stream",
     "text": [
      "1 1 "
     ]
    }
   ],
   "source": [
    "binary(3)"
   ]
  },
  {
   "cell_type": "code",
   "execution_count": 29,
   "metadata": {},
   "outputs": [
    {
     "name": "stdout",
     "output_type": "stream",
     "text": [
      "1 0 0 1 "
     ]
    }
   ],
   "source": [
    "binary(9)"
   ]
  },
  {
   "cell_type": "markdown",
   "metadata": {},
   "source": [
    " "
   ]
  },
  {
   "cell_type": "markdown",
   "metadata": {},
   "source": [
    "### Question 7"
   ]
  },
  {
   "cell_type": "code",
   "execution_count": 30,
   "metadata": {},
   "outputs": [],
   "source": [
    "from html.parser import HTMLParser\n",
    "\n",
    "class HeadingParser(HTMLParser):\n",
    "    \n",
    "    allowToCollectHeader=False\n",
    "    headingTag=\"\"\n",
    "    heading=\"\"\n",
    "    \n",
    "    def handle_starttag(self, tag, attrs):\n",
    "        if (tag.lower()==\"h1\"or tag.lower()==\"h2\" or tag.lower()==\"h3\" or tag.lower()==\"h4\" or tag.lower()==\"h5\" or tag.lower()==\"h6\"):\n",
    "            self.headingTag=tag.lower()\n",
    "            self.allowToCollectHeader=True\n",
    "\n",
    "    def handle_endtag(self, tag):\n",
    "        if(self.headingTag==tag.lower()):\n",
    "            self.allowToCollectHeader=False\n",
    "            print((int(tag[1])-1)*\"\\t\"+self.heading)\n",
    "            self.headingTag=\"\"\n",
    "            self.heading=\"\"\n",
    "\n",
    "    def handle_data(self, data):\n",
    "        if(self.allowToCollectHeader):\n",
    "            self.heading=self.heading+data"
   ]
  },
  {
   "cell_type": "code",
   "execution_count": 31,
   "metadata": {},
   "outputs": [],
   "source": [
    "infile = open('w3c.html')"
   ]
  },
  {
   "cell_type": "code",
   "execution_count": 32,
   "metadata": {},
   "outputs": [],
   "source": [
    "content = infile.read()"
   ]
  },
  {
   "cell_type": "code",
   "execution_count": 33,
   "metadata": {},
   "outputs": [],
   "source": [
    "infile.close()"
   ]
  },
  {
   "cell_type": "code",
   "execution_count": 34,
   "metadata": {},
   "outputs": [],
   "source": [
    "hp = HeadingParser()"
   ]
  },
  {
   "cell_type": "code",
   "execution_count": 35,
   "metadata": {},
   "outputs": [
    {
     "name": "stdout",
     "output_type": "stream",
     "text": [
      "W3C Mission\n",
      "\tPrinciples\n"
     ]
    }
   ],
   "source": [
    "hp.feed(content)"
   ]
  },
  {
   "cell_type": "markdown",
   "metadata": {},
   "source": [
    " "
   ]
  },
  {
   "cell_type": "markdown",
   "metadata": {},
   "source": [
    "### Question 8"
   ]
  },
  {
   "cell_type": "code",
   "execution_count": 36,
   "metadata": {
    "scrolled": true
   },
   "outputs": [
    {
     "name": "stdout",
     "output_type": "stream",
     "text": [
      " http://reed.cs.depaul.edu/lperkovic/one.html\n",
      "         http://reed.cs.depaul.edu/lperkovic/two.html\n",
      "                 http://reed.cs.depaul.edu/lperkovic/four.html\n",
      "         http://reed.cs.depaul.edu/lperkovic/three.html\n",
      "                 http://reed.cs.depaul.edu/lperkovic/four.html\n"
     ]
    }
   ],
   "source": [
    "from html.parser import HTMLParser\n",
    "from urllib.request import urlopen\n",
    "from urllib.parse import urljoin\n",
    "\n",
    "class Appender(HTMLParser):\n",
    "    \n",
    "\n",
    "    def __init__(self, url):\n",
    "      \n",
    "        HTMLParser.__init__(self)\n",
    "        self.url = url\n",
    "        self.url_links = []\n",
    "\n",
    "\n",
    "    def append(self):\n",
    "        \n",
    "        return self.url_links\n",
    "\n",
    "\n",
    "\n",
    "\n",
    "    def handle_starttag(self, url_tag, attributes):\n",
    "        for a in attributes:\n",
    "            ab = urljoin(self.url, a[1])\n",
    "            if ab[:4] == 'http': \n",
    "                self.url_links.append(ab)\n",
    "                        \n",
    "i = 0\n",
    "def webdir(url, depth, i):\n",
    "   \n",
    "\n",
    "    depth = depth - 1    \n",
    "    print(i*'  ', url)         \n",
    "\n",
    "    objective = urlopen(url).read().decode()\n",
    "    collection = Appender(url)\n",
    "    collection.feed(objective)\n",
    "    urls = collection.append() \n",
    " \n",
    "    url_links = urls\n",
    "    i= i + 4\n",
    "\n",
    "\n",
    "    for link in url_links:\n",
    "        if depth < 0 or i < 0:\n",
    "            return 1\n",
    "        else:\n",
    "            webdir(link, depth, i)\n",
    "\n",
    "\n",
    "\n",
    "webdir('http://reed.cs.depaul.edu/lperkovic/one.html', 2, 0)"
   ]
  },
  {
   "cell_type": "markdown",
   "metadata": {},
   "source": [
    " "
   ]
  },
  {
   "cell_type": "markdown",
   "metadata": {},
   "source": [
    "### Question 9"
   ]
  },
  {
   "cell_type": "markdown",
   "metadata": {},
   "source": [
    "**Let us assume the name of the table be Rain_Description**"
   ]
  },
  {
   "cell_type": "markdown",
   "metadata": {},
   "source": [
    "a) All the temperature data"
   ]
  },
  {
   "cell_type": "code",
   "execution_count": null,
   "metadata": {},
   "outputs": [],
   "source": [
    "select temperature from Rain_Description;"
   ]
  },
  {
   "cell_type": "markdown",
   "metadata": {},
   "source": [
    "b) All the cities, but without repetition."
   ]
  },
  {
   "cell_type": "code",
   "execution_count": null,
   "metadata": {},
   "outputs": [],
   "source": [
    "Select Distinct City From Rain_Description;"
   ]
  },
  {
   "cell_type": "markdown",
   "metadata": {},
   "source": [
    "c) All the records for India."
   ]
  },
  {
   "cell_type": "code",
   "execution_count": null,
   "metadata": {},
   "outputs": [],
   "source": [
    "Select * from Rain_Description where country = 'India';"
   ]
  },
  {
   "cell_type": "markdown",
   "metadata": {},
   "source": [
    "d) All the Fall records."
   ]
  },
  {
   "cell_type": "code",
   "execution_count": null,
   "metadata": {},
   "outputs": [],
   "source": [
    "Select * from Rain_Description where season = 'Fall';"
   ]
  },
  {
   "cell_type": "markdown",
   "metadata": {},
   "source": [
    "e) The city, country,and season for which the average rainfall is between 200 and 400 millimeters."
   ]
  },
  {
   "cell_type": "code",
   "execution_count": null,
   "metadata": {},
   "outputs": [],
   "source": [
    "Select City, Country, Season From Rain_Description Where Rainfall BETWEEN 200 AND 400;"
   ]
  },
  {
   "cell_type": "markdown",
   "metadata": {},
   "source": [
    "f) The city and country for which the average Fall temperature is above 20 degrees, in increasing temperature order."
   ]
  },
  {
   "cell_type": "code",
   "execution_count": null,
   "metadata": {},
   "outputs": [],
   "source": [
    "Select Distinct City,Country FROM Rain_Description Where Season= ”Fall” AND Temperature>20 Order By Temperature ASC;"
   ]
  },
  {
   "cell_type": "markdown",
   "metadata": {},
   "source": [
    "g) The total annual rainfall for Cairo."
   ]
  },
  {
   "cell_type": "code",
   "execution_count": null,
   "metadata": {},
   "outputs": [],
   "source": [
    "Select SUM(Rainfall) AS \"Total annual rainfall for Cairo\" From Rain_Description Where City=\"Cairo\";"
   ]
  },
  {
   "cell_type": "markdown",
   "metadata": {},
   "source": [
    "h) The total rainfall for each season."
   ]
  },
  {
   "cell_type": "code",
   "execution_count": null,
   "metadata": {},
   "outputs": [],
   "source": [
    "Select Season, SUM(Rainfall) AS \"Total rainfall\" From Rain_Description GROUP BY Season;"
   ]
  },
  {
   "cell_type": "markdown",
   "metadata": {},
   "source": [
    " "
   ]
  },
  {
   "cell_type": "markdown",
   "metadata": {},
   "source": [
    "### Question 10"
   ]
  },
  {
   "cell_type": "code",
   "execution_count": 37,
   "metadata": {},
   "outputs": [],
   "source": [
    "words = ['The', 'quick', 'brown', 'fox', 'jumps', 'over', 'the', 'lazy', 'dog']"
   ]
  },
  {
   "cell_type": "markdown",
   "metadata": {},
   "source": [
    "a) ['THE', 'QUICK', 'BROWN', 'FOX', 'JUMPS', 'OVER', 'THE', 'LAZY', 'DOG']"
   ]
  },
  {
   "cell_type": "code",
   "execution_count": 38,
   "metadata": {},
   "outputs": [
    {
     "data": {
      "text/plain": [
       "['THE', 'QUICK', 'BROWN', 'FOX', 'JUMPS', 'OVER', 'THE', 'LAZY', 'DOG']"
      ]
     },
     "execution_count": 38,
     "metadata": {},
     "output_type": "execute_result"
    }
   ],
   "source": [
    "[x.upper() for x in words]"
   ]
  },
  {
   "cell_type": "markdown",
   "metadata": {},
   "source": [
    "b) ['the', 'quick', 'brown', 'fox', 'jumps', 'over', 'the', 'lazy', 'dog']"
   ]
  },
  {
   "cell_type": "code",
   "execution_count": 39,
   "metadata": {},
   "outputs": [
    {
     "data": {
      "text/plain": [
       "['the', 'quick', 'brown', 'fox', 'jumps', 'over', 'the', 'lazy', 'dog']"
      ]
     },
     "execution_count": 39,
     "metadata": {},
     "output_type": "execute_result"
    }
   ],
   "source": [
    "[x.lower() for x in words]"
   ]
  },
  {
   "cell_type": "markdown",
   "metadata": {},
   "source": [
    "c) [3, 5, 5, 3, 5, 4, 3, 4, 3](the list of lengths of words in list words)"
   ]
  },
  {
   "cell_type": "code",
   "execution_count": 40,
   "metadata": {},
   "outputs": [
    {
     "data": {
      "text/plain": [
       "[3, 5, 5, 3, 5, 4, 3, 4, 3]"
      ]
     },
     "execution_count": 40,
     "metadata": {},
     "output_type": "execute_result"
    }
   ],
   "source": [
    "[len(x) for x in words]"
   ]
  },
  {
   "cell_type": "markdown",
   "metadata": {},
   "source": [
    "d) [['THE', 'the', 3], ['QUICK', 'quick', 5], ['BROWN', 'brown', 5], ['FOX', 'fox', 3], ['JUMPS', 'jumps', 5], ['OVER', 'over', 4], ['THE', 'the', 3], ['LAZY', 'lazy', 4], ['DOG', 'dog', 3]](the list containing a list for every word of list words, where each list contains the word in uppercase and lowercase and the length of the word.)"
   ]
  },
  {
   "cell_type": "code",
   "execution_count": 41,
   "metadata": {},
   "outputs": [
    {
     "data": {
      "text/plain": [
       "[['THE', 'the', 3],\n",
       " ['QUICK', 'quick', 5],\n",
       " ['BROWN', 'brown', 5],\n",
       " ['FOX', 'fox', 3],\n",
       " ['JUMPS', 'jumps', 5],\n",
       " ['OVER', 'over', 4],\n",
       " ['THE', 'the', 3],\n",
       " ['LAZY', 'lazy', 4],\n",
       " ['DOG', 'dog', 3]]"
      ]
     },
     "execution_count": 41,
     "metadata": {},
     "output_type": "execute_result"
    }
   ],
   "source": [
    "[[x.upper(),x.lower(),len(x)] for x in words]"
   ]
  },
  {
   "cell_type": "markdown",
   "metadata": {},
   "source": [
    "e) ['The', 'quick', 'brown', 'fox', 'jumps', 'over', 'the', 'lazy', 'dog'](the list of words in list wordscontaining 4 or more characters.)"
   ]
  },
  {
   "cell_type": "code",
   "execution_count": 42,
   "metadata": {},
   "outputs": [
    {
     "data": {
      "text/plain": [
       "['quick', 'brown', 'jumps', 'over', 'lazy']"
      ]
     },
     "execution_count": 42,
     "metadata": {},
     "output_type": "execute_result"
    }
   ],
   "source": [
    "[x for x in words if len(x) >= 4]"
   ]
  }
 ],
 "metadata": {
  "kernelspec": {
   "display_name": "Python 3",
   "language": "python",
   "name": "python3"
  },
  "language_info": {
   "codemirror_mode": {
    "name": "ipython",
    "version": 3
   },
   "file_extension": ".py",
   "mimetype": "text/x-python",
   "name": "python",
   "nbconvert_exporter": "python",
   "pygments_lexer": "ipython3",
   "version": "3.7.6"
  }
 },
 "nbformat": 4,
 "nbformat_minor": 4
}
